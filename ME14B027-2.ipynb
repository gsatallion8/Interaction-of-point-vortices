{
 "cells": [
  {
   "cell_type": "code",
   "execution_count": 1,
   "metadata": {
    "collapsed": true
   },
   "outputs": [],
   "source": [
    "X=[[]]\n",
    "g=[]"
   ]
  },
  {
   "cell_type": "code",
   "execution_count": 2,
   "metadata": {
    "collapsed": true
   },
   "outputs": [],
   "source": [
    "#input via text file. It is tedius to enter values when prompted.\n",
    "with open('data1.txt') as f:\n",
    "    Data = []\n",
    "    for line in f:\n",
    "        line = line.split()\n",
    "        if line:\n",
    "            line = [float(x) for x in line]\n",
    "            Data.append(line)"
   ]
  },
  {
   "cell_type": "code",
   "execution_count": 3,
   "metadata": {
    "collapsed": false
   },
   "outputs": [],
   "source": [
    "n=Data[0][0]\n",
    "g=Data[1]\n",
    "i=2\n",
    "while i<n+2:\n",
    "    X[0].append(Data[i])\n",
    "    i+=1"
   ]
  },
  {
   "cell_type": "code",
   "execution_count": 4,
   "metadata": {
    "collapsed": false
   },
   "outputs": [],
   "source": [
    "#List of velocities of all point vortices\n",
    "def U(g,X,n):\n",
    "    pi=3.14159\n",
    "    i=0\n",
    "    f=[]\n",
    "    while i<n:\n",
    "        j=0\n",
    "        ux=0\n",
    "        uy=0\n",
    "        while j<n:\n",
    "            if j==i:\n",
    "                j+=1\n",
    "                continue\n",
    "            else:\n",
    "                r2=(X[i][1]-X[j][1])*(X[i][1]-X[j][1])+(X[i][0]-X[j][0])*(X[i][0]-X[j][0])\n",
    "                ux+=-g[j]*(X[i][1]-X[j][1])/(2*pi*r2)\n",
    "                uy+=g[j]*(X[i][0]-X[j][0])/(2*pi*r2)\n",
    "            j+=1\n",
    "        f.append([ux,uy])\n",
    "        i+=1\n",
    "        \n",
    "    return f"
   ]
  },
  {
   "cell_type": "code",
   "execution_count": 5,
   "metadata": {
    "collapsed": true
   },
   "outputs": [],
   "source": [
    "#Elementwise add two lists\n",
    "def AddLists(a,b,n):\n",
    "    c=[]\n",
    "    i=0\n",
    "    while i<n:\n",
    "        c.append([0.0,0.0])\n",
    "        i+=1\n",
    "\n",
    "    i=0\n",
    "    while i<n:\n",
    "        j=0\n",
    "        while j<2:\n",
    "            c[i][j]=a[i][j]+b[i][j]\n",
    "            j+=1\n",
    "        i+=1\n",
    "        \n",
    "    return c"
   ]
  },
  {
   "cell_type": "code",
   "execution_count": 6,
   "metadata": {
    "collapsed": true
   },
   "outputs": [],
   "source": [
    "#RK4 method\n",
    "def Rk4Scheme(g,n,X0,U,dt):\n",
    "    Xf=[]\n",
    "    i=0\n",
    "    while i<n:\n",
    "        Xf.append([0.0,0.0])\n",
    "        i+=1\n",
    "\n",
    "    k1=U(g,X0,n)\n",
    "    X1=AddLists(X0,k1,n)\n",
    "    k2=U(g,X1,n)\n",
    "    X2=AddLists(X1,k2,n)\n",
    "    k3=U(g,X2,n)\n",
    "    X3=AddLists(X2,k3,n)\n",
    "    k4=U(g,X3,n)\n",
    "    i=0\n",
    "    while i<n:\n",
    "        j=0\n",
    "        while j<2:\n",
    "            Xf[i][j]=X0[i][j]+(dt/6.0)*(k1[i][j]+2*k2[i][j]+2*k3[i][j]+k4[i][j])\n",
    "            j+=1\n",
    "        i+=1\n",
    "        \n",
    "    return Xf"
   ]
  },
  {
   "cell_type": "code",
   "execution_count": 7,
   "metadata": {
    "collapsed": false
   },
   "outputs": [],
   "source": [
    "#Euler method\n",
    "def EulerScheme(g,n,X0,U,dt):\n",
    "    Xf=[]\n",
    "    i=0\n",
    "    while i<n:\n",
    "        Xf.append([0.0,0.0])\n",
    "        i+=1\n",
    "\n",
    "    k1=U(g,X0,n)\n",
    "    i=0\n",
    "    while i<n:\n",
    "        j=0\n",
    "        while j<2:\n",
    "            Xf[i][j]=X0[i][j]+dt*k1[i][j]\n",
    "            j+=1\n",
    "        i+=1\n",
    "        \n",
    "    return Xf"
   ]
  },
  {
   "cell_type": "code",
   "execution_count": 8,
   "metadata": {
    "collapsed": false
   },
   "outputs": [],
   "source": [
    "#Finding trajectory of the point vortices\n",
    "i=1\n",
    "dt=0.001\n",
    "N=1000000\n",
    "while i<N:\n",
    "    #X.append(Rk4Scheme(g,n,X[-1],U,dt))\n",
    "    X.append(EulerScheme(g,n,X[-1],U,dt))\n",
    "    i+=1"
   ]
  },
  {
   "cell_type": "code",
   "execution_count": 9,
   "metadata": {
    "collapsed": true
   },
   "outputs": [],
   "source": [
    "xt=[]\n",
    "yt=[]\n",
    "i=0\n",
    "while i<n:\n",
    "    j=0\n",
    "    xt.append([])\n",
    "    yt.append([])\n",
    "    while j<N:\n",
    "        xt[i].append(X[j][i][0])\n",
    "        yt[i].append(X[j][i][1])\n",
    "        j+=1\n",
    "    i+=1"
   ]
  },
  {
   "cell_type": "code",
   "execution_count": 10,
   "metadata": {
    "collapsed": true
   },
   "outputs": [],
   "source": [
    "import matplotlib.pyplot as plt"
   ]
  },
  {
   "cell_type": "code",
   "execution_count": 11,
   "metadata": {
    "collapsed": true
   },
   "outputs": [],
   "source": [
    "#plotting trajectories and path lines\n",
    "i=0\n",
    "while i<n:\n",
    "    plt.plot(xt[i],yt[i])\n",
    "    plt.show()\n",
    "    i+=1"
   ]
  },
  {
   "cell_type": "code",
   "execution_count": 12,
   "metadata": {
    "collapsed": false
   },
   "outputs": [],
   "source": [
    "#velocity at a point at an instant\n",
    "def Velocity(x,y,X,g,n):\n",
    "    i=0\n",
    "    ux=0\n",
    "    uy=0\n",
    "    pi=3.14159\n",
    "    while i<n:\n",
    "        r2=(x-X[i][0])*(x-X[i][0])+(y-X[i][1])*(y-X[i][1])\n",
    "        if r2>0.01:\n",
    "            ux+=-g[i]*(y-X[i][1])/(2*pi*r2)\n",
    "            uy+=g[i]*(x-X[i][0])/(2*pi*r2)\n",
    "        i+=1\n",
    "    return [ux,uy]"
   ]
  },
  {
   "cell_type": "code",
   "execution_count": 13,
   "metadata": {
    "collapsed": true
   },
   "outputs": [],
   "source": [
    "#linear combination of positions of point vortices.\n",
    "def linComb(X,n,ns,j):\n",
    "    i=0\n",
    "    a=[]\n",
    "    k=0\n",
    "    while k<n:\n",
    "        a.append(1)\n",
    "        k+=1\n",
    "    a[int((j-1)%n)]+=1+(j-1)//n\n",
    "    xTempor=[0,0]\n",
    "    norm=0\n",
    "    while i<n:\n",
    "        xTempor[0]+=a[i]*X[i][0]\n",
    "        xTempor[1]+=a[i]*X[i][1]\n",
    "        norm+=a[i]\n",
    "        i+=1\n",
    "    xTempor[0]/=norm\n",
    "    xTempor[1]/=norm\n",
    "    return xTempor"
   ]
  },
  {
   "cell_type": "code",
   "execution_count": 14,
   "metadata": {
    "collapsed": true
   },
   "outputs": [],
   "source": [
    "#Draw stream lines originating from a point a specific time\n",
    "def streamLines(g,X,n,t,xi,ns,Ns,dt):\n",
    "    x=[]\n",
    "    y=[]\n",
    "    i=0\n",
    "    while i<ns:\n",
    "        x.append([xi[i][0]])\n",
    "        y.append([xi[i][1]])\n",
    "        j=0\n",
    "        while j<Ns:\n",
    "            u=Velocity(x[i][-1],y[i][-1],X[t],g,n)\n",
    "            x[i].append(x[i][-1]+u[0]*dt)\n",
    "            y[i].append(y[i][-1]+u[1]*dt)\n",
    "            j+=1\n",
    "        plt.plot(x[i],y[i])\n",
    "        i+=1\n",
    "    plt.show()"
   ]
  },
  {
   "cell_type": "code",
   "execution_count": 17,
   "metadata": {
    "collapsed": false
   },
   "outputs": [],
   "source": [
    "xi=[]\n",
    "t=750000\n",
    "j=0\n",
    "ns=7\n",
    "while j<ns:\n",
    "    temp=linComb(X[t],n,ns,j)\n",
    "    xi.append(temp) \n",
    "    j+=1\n",
    "Ns=1000000\n",
    "dt=0.001\n",
    "streamLines(g,X,n,t,xi,ns,Ns,dt)"
   ]
  },
  {
   "cell_type": "code",
   "execution_count": null,
   "metadata": {
    "collapsed": true
   },
   "outputs": [],
   "source": []
  }
 ],
 "metadata": {
  "kernelspec": {
   "display_name": "Python 2",
   "language": "python",
   "name": "python2"
  },
  "language_info": {
   "codemirror_mode": {
    "name": "ipython",
    "version": 2
   },
   "file_extension": ".py",
   "mimetype": "text/x-python",
   "name": "python",
   "nbconvert_exporter": "python",
   "pygments_lexer": "ipython2",
   "version": "2.7.11"
  }
 },
 "nbformat": 4,
 "nbformat_minor": 0
}
